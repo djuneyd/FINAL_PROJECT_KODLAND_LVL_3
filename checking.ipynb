{
 "cells": [
  {
   "cell_type": "code",
   "execution_count": 2,
   "metadata": {},
   "outputs": [
    {
     "name": "stdout",
     "output_type": "stream",
     "text": [
      "{'John': 'Doe', 'Jane': 'Smith', 'David': 'Johnson', 'Sarah': 'Williams'}\n"
     ]
    }
   ],
   "source": [
    "dict = {\n",
    "    # dictionary of names\n",
    "    \"John\": \"Doe\",\n",
    "    \"Jane\": \"Smith\",\n",
    "    \"David\": \"Johnson\",\n",
    "    \"Sarah\": \"Williams\",\n",
    "}\n",
    "\n",
    "print(dict)"
   ]
  }
 ],
 "metadata": {
  "kernelspec": {
   "display_name": "Python 3",
   "language": "python",
   "name": "python3"
  },
  "language_info": {
   "codemirror_mode": {
    "name": "ipython",
    "version": 3
   },
   "file_extension": ".py",
   "mimetype": "text/x-python",
   "name": "python",
   "nbconvert_exporter": "python",
   "pygments_lexer": "ipython3",
   "version": "3.12.4"
  }
 },
 "nbformat": 4,
 "nbformat_minor": 2
}
